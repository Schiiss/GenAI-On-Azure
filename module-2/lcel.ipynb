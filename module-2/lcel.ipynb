{
 "cells": [
  {
   "cell_type": "markdown",
   "metadata": {},
   "source": [
    "# LangChain Expression Language 🦜\n",
    "\n",
    "LangChain Expression Language, or LCEL, is a declarative way to easily compose chains together."
   ]
  },
  {
   "cell_type": "markdown",
   "metadata": {},
   "source": [
    "## Import Libraries 🧑‍💻\n",
    "\n",
    "- AzureChatOpenAI: Allows us to authenticate and interact with our GPT4o model\n",
    "\n",
    "- StrOutputParser: Ensures our LLM output is in the form of a string, making it more deterministic \n",
    "\n",
    "- ChatPromptTemplate: Creates a prompt template to help translate user input and parameters into instructions for a language model"
   ]
  },
  {
   "cell_type": "code",
   "execution_count": null,
   "metadata": {},
   "outputs": [],
   "source": [
    "import os\n",
    "from dotenv import load_dotenv\n",
    "load_dotenv()\n",
    "from langchain_openai import AzureChatOpenAI\n",
    "from langchain_core.output_parsers import StrOutputParser\n",
    "from langchain_core.prompts import ChatPromptTemplate"
   ]
  },
  {
   "cell_type": "markdown",
   "metadata": {},
   "source": [
    "## Define our GPT4o Model 🤖\n",
    "\n",
    "Connect to our Azure OpenAI instance"
   ]
  },
  {
   "cell_type": "code",
   "execution_count": null,
   "metadata": {},
   "outputs": [],
   "source": [
    "model = AzureChatOpenAI(\n",
    "    azure_deployment=\"gpt4o\",\n",
    "    azure_endpoint=os.getenv(\"AZURE_OPENAI_ENDPOINT\"),\n",
    "    api_key=os.getenv(\"AZURE_OPENAI_API_KEY\"),\n",
    "    api_version=\"2024-02-01\"\n",
    ")"
   ]
  },
  {
   "cell_type": "markdown",
   "metadata": {},
   "source": [
    "## LangChain Prompt Template \n",
    "\n",
    "Helps to translate user input and parameters into instructions for a language model.\n",
    "\n",
    "In our case, we have defined a prompt template that asks the LLM to summarize the following Star Wars movie, where the input provided by the user is the movie we want the LLM to summarize."
   ]
  },
  {
   "cell_type": "code",
   "execution_count": null,
   "metadata": {},
   "outputs": [],
   "source": [
    "prompt = ChatPromptTemplate.from_template(\"summarize the following Star Wars Movie:{movie}\")"
   ]
  },
  {
   "cell_type": "markdown",
   "metadata": {},
   "source": [
    "## LangChain Expression Language (LCEL) 👨‍💻\n",
    "\n",
    "Below, we will leverage the LangChain Expression Language to do the following:\n",
    "\n",
    "- Leverage the previously created [prompt template](https://python.langchain.com/v0.2/docs/how_to/#prompt-templates) which will help format user input into a format that can be passed to a language model\n",
    "\n",
    "- Leverage the output from the prompt template to pass along to a [chat model](https://python.langchain.com/v0.2/docs/how_to/#chat-models). In our case, the chat model is GPT4o\n",
    "\n",
    "- Convert the output into a string leveraging one of LangChains [output parsers](https://python.langchain.com/v0.2/docs/how_to/#output-parsers) called StrOutputParser\n",
    "\n",
    "These combines 3/4 components we talked about earlier in this video:\n",
    "\n",
    "- Chains \n",
    "\n",
    "- Prompt Templates\n",
    "\n",
    "- Output Parsers\n",
    "\n",
    "The retrieval aspect of LangChain will be covered later in the module once we load all of our product documentation into Azure Search!"
   ]
  },
  {
   "cell_type": "code",
   "execution_count": null,
   "metadata": {},
   "outputs": [],
   "source": [
    "chain = prompt | model | StrOutputParser()"
   ]
  },
  {
   "cell_type": "markdown",
   "metadata": {},
   "source": [
    "## Invoke the Chain\n",
    "\n",
    "Let's run our chain!"
   ]
  },
  {
   "cell_type": "code",
   "execution_count": null,
   "metadata": {},
   "outputs": [],
   "source": [
    "chain.invoke({\"movie\": \"A New Hope\"})"
   ]
  }
 ],
 "metadata": {
  "kernelspec": {
   "display_name": "Python 3",
   "language": "python",
   "name": "python3"
  },
  "language_info": {
   "codemirror_mode": {
    "name": "ipython",
    "version": 3
   },
   "file_extension": ".py",
   "mimetype": "text/x-python",
   "name": "python",
   "nbconvert_exporter": "python",
   "pygments_lexer": "ipython3",
   "version": "3.11.9"
  }
 },
 "nbformat": 4,
 "nbformat_minor": 2
}
