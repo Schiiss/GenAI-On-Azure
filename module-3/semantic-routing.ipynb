{
 "cells": [
  {
   "cell_type": "markdown",
   "metadata": {},
   "source": [
    "## Import Libraries 🧑‍💻\n",
    "\n",
    "We are going to leverage the [semantic router library](https://github.com/aurelio-labs/semantic-router?tab=readme-ov-file) to demonstrate this."
   ]
  },
  {
   "cell_type": "code",
   "execution_count": null,
   "metadata": {},
   "outputs": [],
   "source": [
    "from semantic_router.layer import RouteLayer, Route\n",
    "from semantic_router.encoders import AzureOpenAIEncoder\n",
    "import os\n",
    "from dotenv import load_dotenv\n",
    "load_dotenv()"
   ]
  },
  {
   "cell_type": "markdown",
   "metadata": {},
   "source": [
    "## Create Routes 🛣️\n",
    "\n",
    "Below we define three routes:\n",
    "\n",
    "1. Small Talk Route 🗣️\n",
    "\n",
    "2. Headphones Product Questions Route 🎧\n",
    "\n",
    "3. Laptop Product Questions Route 💻"
   ]
  },
  {
   "cell_type": "code",
   "execution_count": null,
   "metadata": {},
   "outputs": [],
   "source": [
    "small_talk = Route(\n",
    "    name=\"small_talk\",\n",
    "    utterances=[\n",
    "        \"Hey, how are you?\", \n",
    "        \"How's it going?\",\n",
    "        \"Nice weather today\"\n",
    "    ],\n",
    ")\n",
    "\n",
    "headphones_questions = Route(\n",
    "    name=\"headphones_questions\",\n",
    "    utterances=[\n",
    "        \"How much does the ClearSound X7 headphones cost?\",\n",
    "        \"What headphones do you offer?\",\n",
    "        \"What features does the SoundWave Elite 900 have?\"\n",
    "    ],\n",
    ")\n",
    "\n",
    "laptop_questions = Route(\n",
    "    name=\"laptop_questions\",\n",
    "    utterances=[\n",
    "        \"How much does the TechMax UltraBook 14 laptop cost?\",\n",
    "        \"What laptops do you offer?\",\n",
    "        \"What features does the SwiftBook Pro 13 have?\"\n",
    "    ],\n",
    ")"
   ]
  },
  {
   "cell_type": "markdown",
   "metadata": {},
   "source": [
    "## Test Routes 🧪"
   ]
  },
  {
   "cell_type": "code",
   "execution_count": null,
   "metadata": {},
   "outputs": [],
   "source": [
    "routes = [small_talk, headphones_questions, laptop_questions]\n",
    "encoder = AzureOpenAIEncoder(api_key=os.getenv(\"AZURE_OPENAI_API_KEY\"), deployment_name=\"embeddings\", azure_endpoint=os.getenv(\"AZURE_OPENAI_ENDPOINT\"), api_version=\"2024-02-15-preview\", model=\"text-embedding-ada-002\")\n",
    "rl = RouteLayer(encoder=encoder, routes=routes)\n",
    "print(rl(\"Hello there, how are you?\").name)\n",
    "print(rl(\"Tell me about your laptops\").name)\n",
    "print(rl(\"What about headphones?\").name)"
   ]
  },
  {
   "cell_type": "markdown",
   "metadata": {},
   "source": [
    "## Practical Application 🤖"
   ]
  },
  {
   "cell_type": "code",
   "execution_count": null,
   "metadata": {},
   "outputs": [],
   "source": [
    "def semantic_layer(query: str):\n",
    "    route = rl(query)\n",
    "    if route.name == \"laptop_questions\":\n",
    "        print(\"run this logic for laptops\")\n",
    "    elif route.name == \"headphones_questions\":\n",
    "        print(\"run this logic for headphones\")\n",
    "    elif route.name == \"small_talk\":\n",
    "        print(\"run this logic for small talk\")\n",
    "    else:\n",
    "        pass\n",
    "    return query\n",
    "\n",
    "query = \"What about headphones?\"\n",
    "semantic_layer(query)\n",
    "\n",
    "query = \"TechMax UltraBook 14 laptop cost\"\n",
    "semantic_layer(query)\n",
    "\n",
    "query = \"TechMax UltraBook 14 laptop features\"\n",
    "semantic_layer(query)\n",
    "\n",
    "\n",
    "query = \"Hello!\"\n",
    "semantic_layer(query)"
   ]
  }
 ],
 "metadata": {
  "kernelspec": {
   "display_name": ".venv",
   "language": "python",
   "name": "python3"
  },
  "language_info": {
   "codemirror_mode": {
    "name": "ipython",
    "version": 3
   },
   "file_extension": ".py",
   "mimetype": "text/x-python",
   "name": "python",
   "nbconvert_exporter": "python",
   "pygments_lexer": "ipython3",
   "version": "3.11.9"
  }
 },
 "nbformat": 4,
 "nbformat_minor": 2
}
