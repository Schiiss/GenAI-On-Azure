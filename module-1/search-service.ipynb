{
 "cells": [
  {
   "cell_type": "markdown",
   "metadata": {},
   "source": [
    "# Introduction to Azure Search Service 👨‍🏫\n",
    "\n",
    "- Cloud-Based Search Service: Azure Search Service is a cloud search service with built-in AI capabilities.\n",
    "\n",
    "- AI-Enriched Information: It enriches all types of information to easily identify and explore relevant content at scale.\n",
    "\n",
    "- Rich Indexing Capabilities: Offers rich indexing with integrated data chunking and vectorization, as well as lexical analysis for text.\n",
    "\n",
    "- Integration with Azure Services: Can integrate with other Azure services for data ingestion/retrieval and incorporate consumable AI from Azure AI services.\n",
    "\n",
    "- Generative AI Applications: Optimized for retrieval-augmented generation within Generative AI applications, allowing storage, indexing, and searching of data."
   ]
  },
  {
   "cell_type": "markdown",
   "metadata": {},
   "source": [
    "## Import Libraries & Initialize Environment Variables"
   ]
  },
  {
   "cell_type": "code",
   "execution_count": 6,
   "metadata": {},
   "outputs": [
    {
     "data": {
      "text/plain": [
       "True"
      ]
     },
     "execution_count": 6,
     "metadata": {},
     "output_type": "execute_result"
    }
   ],
   "source": [
    "import os\n",
    "from dotenv import load_dotenv\n",
    "from langchain_community.document_loaders import TextLoader\n",
    "from langchain_text_splitters import CharacterTextSplitter\n",
    "from langchain_community.vectorstores.azuresearch import AzureSearch\n",
    "from langchain_openai import AzureOpenAIEmbeddings\n",
    "load_dotenv()"
   ]
  },
  {
   "cell_type": "markdown",
   "metadata": {},
   "source": [
    "## Create Azure OpenAI Embeddings Instance"
   ]
  },
  {
   "cell_type": "code",
   "execution_count": 7,
   "metadata": {},
   "outputs": [],
   "source": [
    "embeddings: AzureOpenAIEmbeddings = AzureOpenAIEmbeddings(\n",
    "    azure_deployment=\"embeddings\",\n",
    "    azure_endpoint=os.getenv(\"AZURE_OPENAI_ENDPOINT\"),\n",
    "    api_key=os.getenv(\"AZURE_OPENAI_API_KEY\")\n",
    ")"
   ]
  },
  {
   "cell_type": "markdown",
   "metadata": {},
   "source": [
    "## Create Azure Search Instance"
   ]
  },
  {
   "cell_type": "code",
   "execution_count": 8,
   "metadata": {},
   "outputs": [],
   "source": [
    "index_name: str = \"product-info-test\"\n",
    "vector_store: AzureSearch = AzureSearch(\n",
    "    azure_search_endpoint=os.getenv(\"AZURE_SEARCH_ENDPOINT\"),\n",
    "    azure_search_key=os.getenv(\"AZURE_SEARCH_KEY\"),\n",
    "    index_name=index_name,\n",
    "    embedding_function=embeddings.embed_query,\n",
    ")"
   ]
  },
  {
   "cell_type": "markdown",
   "metadata": {},
   "source": [
    "## Load and Chunk Home Theater Product Information"
   ]
  },
  {
   "cell_type": "code",
   "execution_count": 9,
   "metadata": {},
   "outputs": [
    {
     "name": "stderr",
     "output_type": "stream",
     "text": [
      "Created a chunk of size 345, which is longer than the specified 200\n",
      "Created a chunk of size 480, which is longer than the specified 200\n",
      "Created a chunk of size 1188, which is longer than the specified 200\n",
      "Created a chunk of size 649, which is longer than the specified 200\n",
      "Created a chunk of size 1337, which is longer than the specified 200\n",
      "Created a chunk of size 366, which is longer than the specified 200\n",
      "Created a chunk of size 395, which is longer than the specified 200\n",
      "Created a chunk of size 321, which is longer than the specified 200\n",
      "Created a chunk of size 308, which is longer than the specified 200\n",
      "Created a chunk of size 222, which is longer than the specified 200\n",
      "Created a chunk of size 279, which is longer than the specified 200\n"
     ]
    },
    {
     "name": "stdout",
     "output_type": "stream",
     "text": [
      "[Document(page_content='Product Name: Ultimate Home Theater System\\n\\nBrand: UltraView\\n\\nModel: UHTS-1000\\n\\nPrice: $4999', metadata={'source': '..\\\\sample-docs\\\\hometheatersystem.txt'}), Document(page_content='Description:\\nThe Ultimate Home Theater System (UHTS-1000) is designed for those who demand the highest quality audio and video experience. This state-of-the-art system combines a 75-inch 8K Ultra HD Smart TV with a premium 7.1.4 Dolby Atmos surround sound system to create an immersive home entertainment experience that rivals the best cinemas.', metadata={'source': '..\\\\sample-docs\\\\hometheatersystem.txt'}), Document(page_content='TV Specifications:', metadata={'source': '..\\\\sample-docs\\\\hometheatersystem.txt'}), Document(page_content='Screen Size: 75 inches\\nResolution: 8K Ultra HD (7680 x 4320)\\nDisplay Technology: OLED\\nHDR: HDR10+, Dolby Vision\\nRefresh Rate: 120Hz\\nSmart TV: Yes, powered by UltraView OS\\nVoice Control: Yes, compatible with Alexa, Google Assistant, and Siri\\nConnectivity: Wi-Fi 6, Bluetooth 5.0, HDMI 2.1 (4 ports), USB 3.0 (3 ports), Ethernet\\nDimensions: 66.0 x 38.0 x 2.0 inches (without stand)\\nWeight: 70 lbs (without stand)\\nIncluded Accessories: Remote control, wall mount bracket, user manual', metadata={'source': '..\\\\sample-docs\\\\hometheatersystem.txt'}), Document(page_content='Key Features:', metadata={'source': '..\\\\sample-docs\\\\hometheatersystem.txt'}), Document(page_content='1. 8K Ultra HD Resolution: With four times the resolution of 4K, the 8K Ultra HD display delivers unparalleled clarity and detail, bringing every scene to life with breathtaking realism.\\n2. OLED Technology: OLED panels provide perfect black levels and infinite contrast, ensuring that colors are vibrant and true-to-life, and that the darkest scenes retain their detail.\\n3. HDR10+ and Dolby Vision: Experience the latest in high dynamic range (HDR) technology, with support for HDR10+ and Dolby Vision, offering enhanced brightness, contrast, and color accuracy.\\n4. 120Hz Refresh Rate: A high refresh rate of 120Hz ensures smooth motion and reduces blur in fast-paced action scenes, sports, and gaming.\\n5. Smart TV Powered by UltraView OS: Access all your favorite streaming services, apps, and content with the intuitive UltraView OS, featuring a user-friendly interface and personalized recommendations.\\n6. Voice Control: Control your TV and connected devices with your voice, thanks to compatibility with Alexa, Google Assistant, and Siri.\\n7. Advanced Connectivity: With Wi-Fi 6, Bluetooth 5.0, and multiple HDMI and USB ports, connecting all your devices is seamless and future-proof.', metadata={'source': '..\\\\sample-docs\\\\hometheatersystem.txt'}), Document(page_content='Surround Sound System Specifications:', metadata={'source': '..\\\\sample-docs\\\\hometheatersystem.txt'}), Document(page_content='Configuration: 7.1.4 channels\\nSpeaker Type: Wireless\\nPower Output: 1500W total\\nAudio Technology: Dolby Atmos, DTS:X, Hi-Res Audio\\nSubwoofer: 12-inch wireless subwoofer\\nSoundbar: 60-inch soundbar with 14 speakers\\nRear Speakers: Four wireless rear speakers\\nHeight Speakers: Four upward-firing speakers\\nConnectivity: Wi-Fi, Bluetooth, HDMI eARC, Optical, 3.5mm aux\\nDimensions:\\n   - Soundbar: 60.0 x 4.0 x 3.0 inches\\n   - Subwoofer: 15.0 x 15.0 x 18.0 inches\\n   - Rear Speakers: 6.0 x 6.0 x 9.0 inches each\\n   - Height Speakers: Integrated in soundbar and rear speakers\\nWeight:\\n   - Soundbar: 15 lbs\\n   - Subwoofer: 20 lbs\\n   - Rear Speakers: 5 lbs each', metadata={'source': '..\\\\sample-docs\\\\hometheatersystem.txt'}), Document(page_content='Key Features:', metadata={'source': '..\\\\sample-docs\\\\hometheatersystem.txt'}), Document(page_content='1. Dolby Atmos and DTS:X: Experience immersive audio with Dolby Atmos and DTS:X, which create a three-dimensional soundscape by adding height channels to traditional surround sound.\\n2. Wireless Connectivity: Enjoy the convenience of wireless speakers, which can be placed anywhere in your room without the need for unsightly cables.\\n3. High Power Output: With a total power output of 1500W, the UHTS-1000 delivers powerful, room-filling sound that brings movies, music, and games to life.\\n4. Hi-Res Audio: Support for Hi-Res Audio ensures that you hear every detail of your music with crystal-clear clarity and precision.\\n5. Advanced Soundbar Design: The 60-inch soundbar features 14 speakers, including dedicated tweeters, mid-range drivers, and upward-firing speakers for a complete audio experience.\\n6. Wireless Subwoofer: The 12-inch wireless subwoofer delivers deep, impactful bass that you can feel, adding an extra dimension to your audio experience.\\n7. Flexible Speaker Placement: The four wireless rear speakers can be placed anywhere in your room to create the perfect surround sound setup, while the upward-firing speakers provide height effects for immersive audio.\\n8. Easy Connectivity: Connect all your devices with ease using HDMI eARC, optical, and 3.5mm aux inputs, as well as Wi-Fi and Bluetooth for wireless streaming.', metadata={'source': '..\\\\sample-docs\\\\hometheatersystem.txt'}), Document(page_content='Additional Features:', metadata={'source': '..\\\\sample-docs\\\\hometheatersystem.txt'}), Document(page_content='1. Customizable Settings: Personalize your audio and video settings to suit your preferences with a range of customization options, including EQ settings, picture modes, and more.', metadata={'source': '..\\\\sample-docs\\\\hometheatersystem.txt'}), Document(page_content='2. Multi-Room Audio: Use the UltraView OS to create a multi-room audio setup, allowing you to play music throughout your home with compatible UltraView speakers and devices.', metadata={'source': '..\\\\sample-docs\\\\hometheatersystem.txt'}), Document(page_content='3. Gaming Mode: Optimize your gaming experience with Gaming Mode, which reduces input lag and enhances picture quality for a smoother, more responsive gameplay experience.', metadata={'source': '..\\\\sample-docs\\\\hometheatersystem.txt'}), Document(page_content='4. Integrated Streaming Services: Access popular streaming services like Netflix, Amazon Prime Video, Disney+, and Hulu directly from your TV, with built-in apps and easy navigation.', metadata={'source': '..\\\\sample-docs\\\\hometheatersystem.txt'}), Document(page_content='5. Voice Assistant Integration: Use voice commands to search for content, control playback, adjust settings, and more with integrated voice assistants.', metadata={'source': '..\\\\sample-docs\\\\hometheatersystem.txt'}), Document(page_content='6. Energy Efficiency: The Ultimate Home Theater System is designed with energy efficiency in mind, featuring an eco-mode that reduces power consumption without compromising performance.', metadata={'source': '..\\\\sample-docs\\\\hometheatersystem.txt'}), Document(page_content='7. Warranty and Support: Enjoy peace of mind with a comprehensive 2-year warranty and dedicated customer support, ensuring that your Ultimate Home Theater System is always performing at its best.', metadata={'source': '..\\\\sample-docs\\\\hometheatersystem.txt'}), Document(page_content='Box Contents:', metadata={'source': '..\\\\sample-docs\\\\hometheatersystem.txt'}), Document(page_content='- 75-inch 8K Ultra HD Smart TV\\n- 60-inch soundbar with integrated upward-firing speakers\\n- 12-inch wireless subwoofer\\n- Four wireless rear speakers with integrated height speakers\\n- Remote control for TV\\n- Remote control for sound system\\n- Wall mount bracket for TV\\n- User manual and quick start guide\\n- HDMI cables (3)\\n- Power cables\\n- Batteries for remote controls', metadata={'source': '..\\\\sample-docs\\\\hometheatersystem.txt'}), Document(page_content='Setup and Installation:', metadata={'source': '..\\\\sample-docs\\\\hometheatersystem.txt'}), Document(page_content='Setting up your Ultimate Home Theater System is straightforward, with easy-to-follow instructions and all necessary hardware included. The wall mount bracket ensures that your TV can be securely mounted on any wall, while the wireless speakers can be placed anywhere in your room for optimal audio performance. For best results, follow the recommended speaker placement guide in the user manual.', metadata={'source': '..\\\\sample-docs\\\\hometheatersystem.txt'}), Document(page_content='Customer Reviews:', metadata={'source': '..\\\\sample-docs\\\\hometheatersystem.txt'}), Document(page_content='John D.:  \\n\"I recently upgraded to the Ultimate Home Theater System, and I\\'m absolutely blown away by the quality. The picture on the 75-inch TV is crystal clear, and the colors are incredibly vibrant. The Dolby Atmos sound system takes my movie nights to the next level – it\\'s like being in a theater! Highly recommend.\"', metadata={'source': '..\\\\sample-docs\\\\hometheatersystem.txt'}), Document(page_content='Sarah P.:  \\n\"This is hands down the best home theater system I\\'ve ever owned. The setup was easy, and the wireless speakers give me the flexibility to arrange my living room however I like. The sound is immersive and powerful, and the TV\\'s smart features make it so easy to find and watch my favorite shows.\"', metadata={'source': '..\\\\sample-docs\\\\hometheatersystem.txt'}), Document(page_content='Mark T.:  \\n\"This system is truly amazing. The 8K resolution is stunning, and the TV\\'s smart interface is very user-friendly. The surround sound system makes me feel like I\\'m in the middle of the action. Worth every penny!\"', metadata={'source': '..\\\\sample-docs\\\\hometheatersystem.txt'}), Document(page_content='Lisa M.:  \\n\"I love the Ultimate Home Theater System! The OLED display provides perfect blacks and vibrant colors, and the Dolby Vision support makes everything look amazing. The soundbar and wireless subwoofer deliver incredible sound quality. Highly satisfied with my purchase.\"', metadata={'source': '..\\\\sample-docs\\\\hometheatersystem.txt'}), Document(page_content='Conclusion:', metadata={'source': '..\\\\sample-docs\\\\hometheatersystem.txt'}), Document(page_content=\"The Ultimate Home Theater System (UHTS-1000) is the perfect choice for those who want the best in home entertainment. With its stunning 8K OLED display, immersive Dolby Atmos sound, and a range of smart features, this system provides an unparalleled viewing and listening experience. Whether you're watching movies, playing games, or streaming your favorite shows, the UHTS-1000 delivers exceptional performance and quality. Transform your home into a state-of-the-art entertainment center.\", metadata={'source': '..\\\\sample-docs\\\\hometheatersystem.txt'})]\n"
     ]
    }
   ],
   "source": [
    "loader = TextLoader(\"..\\sample-docs\\hometheatersystem.txt\", encoding=\"utf-8\")\n",
    "documents = loader.load()\n",
    "text_splitter = CharacterTextSplitter(chunk_size=200, chunk_overlap=30)\n",
    "docs = text_splitter.split_documents(documents)\n",
    "print(docs)"
   ]
  },
  {
   "cell_type": "markdown",
   "metadata": {},
   "source": [
    "## Add Chunks to Azure Search Index"
   ]
  },
  {
   "cell_type": "code",
   "execution_count": 10,
   "metadata": {},
   "outputs": [
    {
     "data": {
      "text/plain": [
       "['NGExMzJmYzktNGVjNC00YWJhLWFmNjYtYWVmNDJiODQwYTE3',\n",
       " 'OTgzODc5MzYtNjQxOS00MGZhLTk1NTItOTI2YmFmNzlkMzM0',\n",
       " 'ZTZjOWIxNGUtMDA0Ni00MDc0LWFlNTctM2RkMmUxODdiOTA2',\n",
       " 'ZDYxNzY4ZDMtYmRhMS00OWFjLTk0MGEtNThkYzM2ZTBiMDcw',\n",
       " 'Y2EwZTFhMWEtMTMwZi00ZDM5LWI3YTUtNjkzMmY0M2MxNmVm',\n",
       " 'YjMzMjVlOGMtNzNiYS00NDllLWJlYzAtOWM1OGNiNTY2MzBl',\n",
       " 'NmIzMWU4ZWMtZTYxYS00ZDMwLWI4ZTQtMDgxNTljNGIzZmFh',\n",
       " 'MWZjMGNmNjQtNmYwMi00NjBhLThlZmEtNzMwMDdjNDFiNjhh',\n",
       " 'NTJiZGExMWYtN2Q2OC00YTBlLTk3MjItYjdlNTcwZDkwMmI2',\n",
       " 'MDdjNmExYmQtYTRiYS00MzMyLWExMzUtMTZjNjNmNTYxYjFj',\n",
       " 'NTk0YTI5ZTEtMmYxMi00OWRiLThlZmYtZGI2YjI4ZDg0ZDFi',\n",
       " 'YTJkOGE4NTctOTAzYS00MTg1LWI2NWQtMGEyZDU3MmZmMjVh',\n",
       " 'NTNkOTA3ODAtYzhiYy00OTUzLWExNmYtNGU4NmQ1Yjk1YmY0',\n",
       " 'NjBkMzhlNzUtN2U3MC00YjZiLThlOTYtOTM0OWNhYmUzODM4',\n",
       " 'MDk5N2YwNjAtYTRhZC00NDI5LThjMmEtMGQ3ZjQ2ODNhOWMz',\n",
       " 'OTY1M2FkYjktNTdmOC00MTY4LTg0Y2YtNDlhNzc5N2RkZTkz',\n",
       " 'NzI3OWMyNmEtZWUwMC00ZWRlLWFjZTktNzFjMWM2ZjhmYTdk',\n",
       " 'MTU1YzEwYzktYWUwZC00MTVhLTk3MWMtNmJmZDVlYTljYTM3',\n",
       " 'MGU5MWYzMWQtZWE0Ni00ZDQ1LTg1YzgtNTYyMTNhM2VjNGIy',\n",
       " 'YzJjYzkwYTctYThlYi00NDg2LTkwNjktMjNjZjY4NDFlY2Vk',\n",
       " 'OWM5OGQwZDAtMzI4ZS00YzRmLTlmMmEtYzQ5OTlkOWM3NjJl',\n",
       " 'OGZkYTJkZWItZmMxNS00ZTdjLWIzNjItNDk3ZDcyMzc3ZDNl',\n",
       " 'ZTNjNWEyZTgtNjk1NS00MTJhLWJkZDItOGRjN2IwMWNmNDkz',\n",
       " 'ZTM4ODkwMWUtODFlMS00ZDhlLTlmMDktMWZiNGVjNjBkM2Q0',\n",
       " 'MDY5Y2E1OGMtNDA4MS00ZDMwLWI3NWUtYTNkMzY2ZmE0MjI5',\n",
       " 'ZDg2YmFmNzYtZjAwYS00N2RiLWIyYzEtZjBmMzhkYThlYzg4',\n",
       " 'YTI4NjVjYzAtZWI2OS00MzJlLWFmZGQtMDFjNmQ2MDYwYTJm',\n",
       " 'MzAwYjI3NGItMTEzNy00OTZkLWI3ZWMtMDM0YWQyMDBlYzk0',\n",
       " 'OTgzYWJlYTQtOTc2Mi00MmQwLWI5NjItYmI3MjlkZjM2MjE3']"
      ]
     },
     "execution_count": 10,
     "metadata": {},
     "output_type": "execute_result"
    }
   ],
   "source": [
    "vector_store.add_documents(documents=docs)"
   ]
  },
  {
   "cell_type": "markdown",
   "metadata": {},
   "source": [
    "## Perform a Similarity Search"
   ]
  },
  {
   "cell_type": "code",
   "execution_count": 11,
   "metadata": {},
   "outputs": [
    {
     "name": "stdout",
     "output_type": "stream",
     "text": [
      "Product Name: Ultimate Home Theater System\n",
      "\n",
      "Brand: UltraView\n",
      "\n",
      "Model: UHTS-1000\n",
      "\n",
      "Price: $4999\n"
     ]
    }
   ],
   "source": [
    "docs = vector_store.similarity_search(\n",
    "    query=\"How much does the home theater system cost?\",\n",
    "    k=3,\n",
    "    search_type=\"similarity\",\n",
    ")\n",
    "print(docs[0].page_content)"
   ]
  }
 ],
 "metadata": {
  "kernelspec": {
   "display_name": "Python 3",
   "language": "python",
   "name": "python3"
  },
  "language_info": {
   "codemirror_mode": {
    "name": "ipython",
    "version": 3
   },
   "file_extension": ".py",
   "mimetype": "text/x-python",
   "name": "python",
   "nbconvert_exporter": "python",
   "pygments_lexer": "ipython3",
   "version": "3.11.9"
  }
 },
 "nbformat": 4,
 "nbformat_minor": 2
}
